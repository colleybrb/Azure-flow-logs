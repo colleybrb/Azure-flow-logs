{
 "cells": [
  {
   "cell_type": "code",
   "execution_count": 3,
   "metadata": {},
   "outputs": [
    {
     "ename": "ImportError",
     "evalue": "cannot import name 'Graph' from 'neographviz' (c:\\Users\\VBAPHCColleD\\AppData\\Local\\Programs\\Python\\Python39\\lib\\site-packages\\neographviz\\__init__.py)",
     "output_type": "error",
     "traceback": [
      "\u001b[1;31m---------------------------------------------------------------------------\u001b[0m",
      "\u001b[1;31mImportError\u001b[0m                               Traceback (most recent call last)",
      "\u001b[1;32mc:\\Users\\VBAPHCColleD\\Downloads\\azure_logs.ipynb Cell 1\u001b[0m in \u001b[0;36m<cell line: 13>\u001b[1;34m()\u001b[0m\n\u001b[0;32m     <a href='vscode-notebook-cell:/c%3A/Users/VBAPHCColleD/Downloads/azure_logs.ipynb#W1sZmlsZQ%3D%3D?line=10'>11</a>\u001b[0m \u001b[39mfrom\u001b[39;00m \u001b[39mnetmiko\u001b[39;00m \u001b[39mimport\u001b[39;00m ConnectHandler\n\u001b[0;32m     <a href='vscode-notebook-cell:/c%3A/Users/VBAPHCColleD/Downloads/azure_logs.ipynb#W1sZmlsZQ%3D%3D?line=11'>12</a>\u001b[0m \u001b[39mfrom\u001b[39;00m \u001b[39mpy2neo\u001b[39;00m \u001b[39mimport\u001b[39;00m Graph \u001b[39mas\u001b[39;00m GRAPHS\n\u001b[1;32m---> <a href='vscode-notebook-cell:/c%3A/Users/VBAPHCColleD/Downloads/azure_logs.ipynb#W1sZmlsZQ%3D%3D?line=12'>13</a>\u001b[0m \u001b[39mfrom\u001b[39;00m \u001b[39mneographviz\u001b[39;00m \u001b[39mimport\u001b[39;00m Graph, plot\n",
      "\u001b[1;31mImportError\u001b[0m: cannot import name 'Graph' from 'neographviz' (c:\\Users\\VBAPHCColleD\\AppData\\Local\\Programs\\Python\\Python39\\lib\\site-packages\\neographviz\\__init__.py)"
     ]
    }
   ],
   "source": [
    "import numpy as np\n",
    "import pandas as pd\n",
    "from datetime import datetime\n",
    "from datetime import timedelta\n",
    "import re\n",
    "import getpass\n",
    "import io\n",
    "import os, json\n",
    "from py2neo import Graph as GRAPHS\n"
   ]
  },
  {
   "cell_type": "code",
   "execution_count": 2,
   "metadata": {},
   "outputs": [],
   "source": [
    "graph = GRAPHS(\"bolt://localhost:7687\", user=\"neo4j\", password=\"temp\",name=\"sessions\")\n"
   ]
  },
  {
   "cell_type": "code",
   "execution_count": 4,
   "metadata": {},
   "outputs": [
    {
     "name": "stdout",
     "output_type": "stream",
     "text": [
      "Index(['timestamp', 'azure.flow.destination.bytes',\n",
      "       'azure.flow.destination.ip', 'azure.flow.destination.port',\n",
      "       'azure.flow.firewall.action', 'azure.flow.source.ip',\n",
      "       'client.as.organization_name', 'client.geo.continent_name',\n",
      "       'client.geo.country_name', 'client.ip', 'client.packets',\n",
      "       'destination.bytes', 'destination.ip', 'event.pipeline.host.os.kernel',\n",
      "       'event.pipeline.host.os.name', 'event.pipeline.host.os.family',\n",
      "       'event.pipeline.host.os.platform', 'client.as.ip', 'client.bytes'],\n",
      "      dtype='object')\n"
     ]
    }
   ],
   "source": [
    "azure_log = pd.read_csv (r'C:\\Users\\user\\Downloads\\azure_logs.csv',skip_blank_lines=True) \n",
    "azure_log.dropna(how=\"all\", inplace=True)\n",
    "print(azure_log.columns)"
   ]
  },
  {
   "cell_type": "code",
   "execution_count": 13,
   "metadata": {},
   "outputs": [
    {
     "name": "stdout",
     "output_type": "stream",
     "text": [
      "ok\n"
     ]
    }
   ],
   "source": [
    "try:\n",
    "    graph.run(\"Match () Return 1 Limit 1\")\n",
    "    print('ok')\n",
    "except Exception:\n",
    "    print('not ok')\n",
    "tx = graph.begin()\n",
    "for index, row in azure_log.iterrows():\n",
    "    tx.evaluate('''\n",
    "    MERGE (s:host {IP: $SourceIP})\n",
    "    MERGE (d:host{IP: $DestinationIP})\n",
    "    CREATE (s)-[i:session {Name: $SourceIP + $DestinationIP + $DestinationPort}]->(d)\n",
    "    SET i.Bytes = toInteger($bytes),i.DestinationPort=$DestinationPort,i.Time=$time,i.Packets=$packets,i.country=$country\n",
    "    ''', parameters = {'SourceIP': row['azure.flow.source.ip'], 'DestinationIP': row['azure.flow.destination.ip'],'DestinationPort': row['azure.flow.destination.port'],'packets': row['client.packets'],'bytes': row['destination.bytes'],'time': row['timestamp'],'country': row['client.geo.country_name']})\n",
    "graph.commit(tx)  "
   ]
  },
  {
   "cell_type": "code",
   "execution_count": 5,
   "metadata": {},
   "outputs": [
    {
     "name": "stdout",
     "output_type": "stream",
     "text": [
      "ok\n"
     ]
    }
   ],
   "source": [
    "try:\n",
    "    graph.run(\"Match () Return 1 Limit 1\")\n",
    "    print('ok')\n",
    "except Exception:\n",
    "    print('not ok')\n",
    "my_node = graph.run(\"MATCH (n) DETACH DELETE n\")"
   ]
  },
  {
   "attachments": {},
   "cell_type": "markdown",
   "metadata": {},
   "source": []
  },
  {
   "cell_type": "code",
   "execution_count": null,
   "metadata": {},
   "outputs": [],
   "source": []
  }
 ],
 "metadata": {
  "kernelspec": {
   "display_name": "Python 3",
   "language": "python",
   "name": "python3"
  },
  "language_info": {
   "codemirror_mode": {
    "name": "ipython",
    "version": 3
   },
   "file_extension": ".py",
   "mimetype": "text/x-python",
   "name": "python",
   "nbconvert_exporter": "python",
   "pygments_lexer": "ipython3",
   "version": "3.9.13 (tags/v3.9.13:6de2ca5, May 17 2022, 16:36:42) [MSC v.1929 64 bit (AMD64)]"
  },
  "orig_nbformat": 4,
  "vscode": {
   "interpreter": {
    "hash": "202e4dd1e8815464a272cce09a7c37b9922276ddad2206b61931d9f320da2ee4"
   }
  }
 },
 "nbformat": 4,
 "nbformat_minor": 2
}
